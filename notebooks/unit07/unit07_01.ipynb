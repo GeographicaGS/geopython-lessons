{
 "cells": [
  {
   "cell_type": "markdown",
   "metadata": {},
   "source": [
    "# PyQGIS"
   ]
  },
  {
   "cell_type": "markdown",
   "metadata": {},
   "source": [
    "## PyQGIS example 1: interactive coding in Python QGIS shell"
   ]
  },
  {
   "cell_type": "markdown",
   "metadata": {},
   "source": [
    "First, we create a layer and add to map view: a bounding box polygon layer from a given coordinates - upper right and lower left corners.\n",
    "\n",
    "\n",
    "__All the code in this example must be executed from Python QGIS shell.__\n",
    "\n",
    "![QGIS Python shell](img/qgis_shell.png)\n",
    "\n",
    "Before create bounding box layer we are going to load a vector layer as basemap:\n",
    "\n",
    "```python\n",
    ">>> bslyer_filepath = \"../../data/ne_110m_coastline/ne_110m_coastline.shp\"\n",
    ">>> bs_ly = iface.addVectorLayer(bslyer_filepath, \"world countries\", \"ogr\")\n",
    "```\n",
    "\n",
    "Now you can define the layer with QgsVectorLayer (a memory layer):\n",
    "\n",
    "```python\n",
    ">>> ly = QgsVectorLayer(\"Polygon?crs=epsg:4326&field=mytext:int(6)\", \"bbox_tmp\", \"memory\")\n",
    ">>> pr = ly.dataProvider()\n",
    "```\n",
    "\n",
    "Creating variables with bounding box corners:\n",
    "```python\n",
    ">>> llx_pt = -6\n",
    ">>> lly_pt = 35\n",
    ">>> urx_pt = 0\n",
    ">>> ury_pt = 40\n",
    "```\n",
    "\n",
    "Creating a feature with desired geometry:\n",
    "```python\n",
    ">>> ft = QgsFeature()\n",
    ">>> geom_poly = QgsGeometry.fromPolygon([[QgsPoint(llx_pt, lly_pt), \n",
    "                                      QgsPoint(llx_pt, ury_pt), \n",
    "                                      QgsPoint(urx_pt, ury_pt), \n",
    "                                      QgsPoint(urx_pt, lly_pt)]])\n",
    ">>> ft.setGeometry(geom_poly)\n",
    "```\n",
    "\n",
    "Adding attributes:\n",
    "```python\n",
    ">>> ft.setAttributes([1])\n",
    ">>> pr.addFeatures([ft])\n",
    ">>> ly.updateExtents()\n",
    "```\n",
    "\n",
    "Add new layer to map view:\n",
    "```python\n",
    ">>> QgsMapLayerRegistry.instance().addMapLayer(ly)\n",
    "```"
   ]
  },
  {
   "cell_type": "code",
   "execution_count": null,
   "metadata": {
    "collapsed": true
   },
   "outputs": [],
   "source": []
  }
 ],
 "metadata": {
  "kernelspec": {
   "display_name": "Python 2",
   "language": "python",
   "name": "python2"
  },
  "language_info": {
   "codemirror_mode": {
    "name": "ipython",
    "version": 2
   },
   "file_extension": ".py",
   "mimetype": "text/x-python",
   "name": "python",
   "nbconvert_exporter": "python",
   "pygments_lexer": "ipython2",
   "version": "2.7.9"
  }
 },
 "nbformat": 4,
 "nbformat_minor": 0
}
